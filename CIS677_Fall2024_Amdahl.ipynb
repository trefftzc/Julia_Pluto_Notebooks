{
  "nbformat": 4,
  "nbformat_minor": 0,
  "metadata": {
    "colab": {
      "provenance": [],
      "authorship_tag": "ABX9TyOZ52r27KI2W3ZuwLzFQtE9",
      "include_colab_link": true
    },
    "kernelspec": {
      "name": "python3",
      "display_name": "Python 3"
    },
    "language_info": {
      "name": "python"
    }
  },
  "cells": [
    {
      "cell_type": "markdown",
      "metadata": {
        "id": "view-in-github",
        "colab_type": "text"
      },
      "source": [
        "<a href=\"https://colab.research.google.com/github/trefftzc/Julia_Pluto_Notebooks/blob/main/CIS677_Fall2024_Amdahl.ipynb\" target=\"_parent\"><img src=\"https://colab.research.google.com/assets/colab-badge.svg\" alt=\"Open In Colab\"/></a>"
      ]
    },
    {
      "cell_type": "markdown",
      "source": [
        "# CIS 677 -- A COLAB notebook to practice some fundamental actions\n",
        "\n",
        "Edit this cell and write your name here: _______________________________________\n",
        "\n",
        "Save this notebook on your Google account:\n",
        "\n",
        "1. Click on File and select Save on Drive\n",
        "2. Rename the file to your last name\n",
        "3. Make sure that your notebook is visible to others. Check on the Share button at the top, click on General Access and select Anyone with the link\n"
      ],
      "metadata": {
        "id": "5fDj2odBxblE"
      }
    },
    {
      "cell_type": "markdown",
      "source": [
        "It is possible to interact with the operating system of the computer at Google that is hosting this notebook.\n",
        "\n",
        "To interact with the operating system, start with the ! character in a code cell.\n",
        "\n",
        "When you click on the cell below, you will see the current list of files on the host computer."
      ],
      "metadata": {
        "id": "r5m7pKZuy49u"
      }
    },
    {
      "cell_type": "code",
      "execution_count": 1,
      "metadata": {
        "colab": {
          "base_uri": "https://localhost:8080/"
        },
        "id": "JehGGuZJxW4n",
        "outputId": "6806a965-dc8e-4917-d4a7-9b77d2f30dc5"
      },
      "outputs": [
        {
          "output_type": "stream",
          "name": "stdout",
          "text": [
            "sample_data\n"
          ]
        }
      ],
      "source": [
        "!ls"
      ]
    },
    {
      "cell_type": "markdown",
      "source": [
        "# Matrix multiplication\n",
        "\n",
        "Matrix multiplication is a fundamental operation in numerical linear algebra.\n",
        "\n",
        "Given two matrices:\n",
        "1. Matrix A with size $l \\times m$\n",
        "2. Matrix B with size $m \\times n$\n",
        "The product will be a matrix C of size $l \\times n$\n",
        "\n",
        "This is Wikipedia's entry on Matrix Multiplication:\n",
        "\n",
        "https://en.wikipedia.org/wiki/Matrix_multiplication#:~:text=For%20matrix%20multiplication%2C%20the%20number,B%20is%20denoted%20as%20AB.\n",
        "\n",
        "To simplify things, we will use square matrices, with the same number of rows and columns, for the following examples."
      ],
      "metadata": {
        "id": "WHYN4Lwtzzyz"
      }
    },
    {
      "cell_type": "markdown",
      "source": [
        "Let's create a couple of sample matrices.\n",
        "\n",
        "It is possible to create a file in COLAB using the directive\n",
        "%%writefile nameOfTheFile"
      ],
      "metadata": {
        "id": "DtPvFtn03b0D"
      }
    },
    {
      "cell_type": "code",
      "source": [
        "%%writefile A_4.Text\n",
        "4\n",
        "1 2 3 4\n",
        "5 6 7 8\n",
        "9 10 11 12\n",
        "13 14 15 16"
      ],
      "metadata": {
        "colab": {
          "base_uri": "https://localhost:8080/"
        },
        "id": "J4QI__pv3myj",
        "outputId": "21bb9465-0c77-4786-9063-9158989cc2d9"
      },
      "execution_count": 2,
      "outputs": [
        {
          "output_type": "stream",
          "name": "stdout",
          "text": [
            "Writing A_4.Text\n"
          ]
        }
      ]
    },
    {
      "cell_type": "code",
      "source": [
        "%%writefile B_4.Text\n",
        "4\n",
        "1 0 0 0\n",
        "0 1 0 0\n",
        "0 0 1 0\n",
        "0 0 0 1"
      ],
      "metadata": {
        "colab": {
          "base_uri": "https://localhost:8080/"
        },
        "id": "3ClBKz3O3z98",
        "outputId": "dbce1b40-1c6b-4ab7-e091-fbcf53729090"
      },
      "execution_count": 3,
      "outputs": [
        {
          "output_type": "stream",
          "name": "stdout",
          "text": [
            "Writing B_4.Text\n"
          ]
        }
      ]
    },
    {
      "cell_type": "markdown",
      "source": [
        "Now, let's create a program that reads both files, multiplies the corresponding matrices and then prints the result."
      ],
      "metadata": {
        "id": "-79zoiRv4CKb"
      }
    },
    {
      "cell_type": "code",
      "source": [
        "%%writefile matrix_multiplication.py\n",
        "import sys\n",
        "import time\n",
        "\n",
        "def read_file(file_name):\n",
        "  file_object = open(file_name, \"r\")\n",
        "  # Input the number of rows and columns\n",
        "  size = int(file_object.readline())\n",
        "  rows = size\n",
        "  cols = size\n",
        "  # Initialize an empty matrix\n",
        "  matrix = []\n",
        "\n",
        "  # Input the matrix elements\n",
        "  for i in range(rows):\n",
        "    row = list(map(int, file_object.readline().split()))\n",
        "    matrix.append(row)\n",
        "  # Display the matrix\n",
        "  print(\"The matrix contained in the file \",file_name,\" is: \")\n",
        "  for row in matrix:\n",
        "    print(row)\n",
        "  return matrix,size\n",
        "\n",
        "# Main code\n",
        "\n",
        "# Read the content of the files passed in the command line\n",
        "# that contain the matrices to be multiplied\n",
        "A,size = read_file(sys.argv[1])\n",
        "B,size = read_file(sys.argv[2])\n",
        "\n",
        "# Initialize the result matrix to 0s\n",
        "C = [[0 for x in range(size)] for y in range(size)]\n",
        "\n",
        "# Multiply the matrices\n",
        "N = size\n",
        "start_time = time.time()\n",
        "for i in range(N):\n",
        "  for j in range(N):\n",
        "    for k in range(N):\n",
        "      C[i][j] += A[i][k]*B[k][j]\n",
        "\n",
        "end_time = time.time()\n",
        "elapsed_time = end_time - start_time\n",
        "print(\"Time required to carry out the computation: \",elapsed_time)\n",
        "\n",
        "# Print out the resulting matrix\n",
        "for i in range(N):\n",
        "  for j in range(N):\n",
        "    print(C[i][j],\" \",end=\"\")\n",
        "  print(\"\\n\")"
      ],
      "metadata": {
        "colab": {
          "base_uri": "https://localhost:8080/"
        },
        "id": "Emsbl1Z84ksr",
        "outputId": "8d9127a8-6ff2-4431-cb40-a1a70a9e35ad"
      },
      "execution_count": 4,
      "outputs": [
        {
          "output_type": "stream",
          "name": "stdout",
          "text": [
            "Writing matrix_multiplication.py\n"
          ]
        }
      ]
    },
    {
      "cell_type": "code",
      "source": [
        "!python3 matrix_multiplication.py A_4.Text B_4.Text"
      ],
      "metadata": {
        "colab": {
          "base_uri": "https://localhost:8080/"
        },
        "id": "mbNaVS596fyz",
        "outputId": "b0644ff7-dfc1-440d-8d1d-bec2001a87ba"
      },
      "execution_count": 5,
      "outputs": [
        {
          "output_type": "stream",
          "name": "stdout",
          "text": [
            "The matrix contained in the file  A_4.Text  is: \n",
            "[1, 2, 3, 4]\n",
            "[5, 6, 7, 8]\n",
            "[9, 10, 11, 12]\n",
            "[13, 14, 15, 16]\n",
            "The matrix contained in the file  B_4.Text  is: \n",
            "[1, 0, 0, 0]\n",
            "[0, 1, 0, 0]\n",
            "[0, 0, 1, 0]\n",
            "[0, 0, 0, 1]\n",
            "Time required to carry out the computation:  4.8160552978515625e-05\n",
            "1  2  3  4  \n",
            "\n",
            "5  6  7  8  \n",
            "\n",
            "9  10  11  12  \n",
            "\n",
            "13  14  15  16  \n",
            "\n"
          ]
        }
      ]
    },
    {
      "cell_type": "markdown",
      "source": [
        "Let's try with slightly larger matrices:"
      ],
      "metadata": {
        "id": "aod54nnnc9A7"
      }
    },
    {
      "cell_type": "code",
      "source": [
        "%%writefile A_8.Text\n",
        "8\n",
        "1 2 3 4 5 6 7 8\n",
        "9 10 11 12 13 14 15 16\n",
        "17 18 19 20 21 22 23 24\n",
        "25 26 27 28 29 30 31 32\n",
        "33 34 35 36 37 38 39 40\n",
        "41 42 43 44 45 46 47 48\n",
        "49 50 51 52 53 54 55 56\n",
        "57 58 59 60 61 62 63 64\n"
      ],
      "metadata": {
        "colab": {
          "base_uri": "https://localhost:8080/"
        },
        "id": "KTajm9VedBYs",
        "outputId": "da10daab-c432-4bad-e201-dd9248bce800"
      },
      "execution_count": 6,
      "outputs": [
        {
          "output_type": "stream",
          "name": "stdout",
          "text": [
            "Writing A_8.Text\n"
          ]
        }
      ]
    },
    {
      "cell_type": "code",
      "source": [
        "%%writefile B_8.Text\n",
        "8\n",
        "1 0 0 0 0 0 0 0\n",
        "0 1 0 0 0 0 0 0\n",
        "0 0 1 0 0 0 0 0\n",
        "0 0 0 1 0 0 0 0\n",
        "0 0 0 0 1 0 0 0\n",
        "0 0 0 0 0 1 0 0\n",
        "0 0 0 0 0 0 1 0\n",
        "0 0 0 0 0 0 0 1"
      ],
      "metadata": {
        "colab": {
          "base_uri": "https://localhost:8080/"
        },
        "id": "VmCFGOAcdNX0",
        "outputId": "44bb1a43-9c43-4740-c9bf-a2f5cab03022"
      },
      "execution_count": 7,
      "outputs": [
        {
          "output_type": "stream",
          "name": "stdout",
          "text": [
            "Writing B_8.Text\n"
          ]
        }
      ]
    },
    {
      "cell_type": "markdown",
      "source": [
        "Now, let's execute the program again with these larger files:\n"
      ],
      "metadata": {
        "id": "GRXC5RZndcn8"
      }
    },
    {
      "cell_type": "code",
      "source": [
        "!python3 matrix_multiplication.py A_8.Text B_8.Text"
      ],
      "metadata": {
        "colab": {
          "base_uri": "https://localhost:8080/"
        },
        "id": "4z6h3Ko4dg7M",
        "outputId": "e893a34d-9214-46f0-cd20-32aeb235475a"
      },
      "execution_count": 8,
      "outputs": [
        {
          "output_type": "stream",
          "name": "stdout",
          "text": [
            "The matrix contained in the file  A_8.Text  is: \n",
            "[1, 2, 3, 4, 5, 6, 7, 8]\n",
            "[9, 10, 11, 12, 13, 14, 15, 16]\n",
            "[17, 18, 19, 20, 21, 22, 23, 24]\n",
            "[25, 26, 27, 28, 29, 30, 31, 32]\n",
            "[33, 34, 35, 36, 37, 38, 39, 40]\n",
            "[41, 42, 43, 44, 45, 46, 47, 48]\n",
            "[49, 50, 51, 52, 53, 54, 55, 56]\n",
            "[57, 58, 59, 60, 61, 62, 63, 64]\n",
            "The matrix contained in the file  B_8.Text  is: \n",
            "[1, 0, 0, 0, 0, 0, 0, 0]\n",
            "[0, 1, 0, 0, 0, 0, 0, 0]\n",
            "[0, 0, 1, 0, 0, 0, 0, 0]\n",
            "[0, 0, 0, 1, 0, 0, 0, 0]\n",
            "[0, 0, 0, 0, 1, 0, 0, 0]\n",
            "[0, 0, 0, 0, 0, 1, 0, 0]\n",
            "[0, 0, 0, 0, 0, 0, 1, 0]\n",
            "[0, 0, 0, 0, 0, 0, 0, 1]\n",
            "Time required to carry out the computation:  0.00044417381286621094\n",
            "1  2  3  4  5  6  7  8  \n",
            "\n",
            "9  10  11  12  13  14  15  16  \n",
            "\n",
            "17  18  19  20  21  22  23  24  \n",
            "\n",
            "25  26  27  28  29  30  31  32  \n",
            "\n",
            "33  34  35  36  37  38  39  40  \n",
            "\n",
            "41  42  43  44  45  46  47  48  \n",
            "\n",
            "49  50  51  52  53  54  55  56  \n",
            "\n",
            "57  58  59  60  61  62  63  64  \n",
            "\n"
          ]
        }
      ]
    },
    {
      "cell_type": "markdown",
      "source": [
        "And now, a third pair of matrices, now of size 12."
      ],
      "metadata": {
        "id": "9vwh1mTpd3tl"
      }
    },
    {
      "cell_type": "code",
      "source": [
        "%%writefile A_12.Text\n",
        "12\n",
        "1 2 3 4 5 6 7 8 9 10 11 12\n",
        "13 14 15 16 17 18 19 20 21 22 23 24\n",
        "25 26 27 28 29 30 31 32 33 34 35 36\n",
        "37 38 39 40 41 42 43 44 45 46 47 48\n",
        "49 50 51 52 53 54 55 56 57 58 59 60\n",
        "61 62 63 64 65 66 67 68 69 70 71 72\n",
        "73 74 75 76 77 78 79 80 81 82 83 84\n",
        "85 86 87 88 89 90 91 92 93 94 95 96\n",
        "97 98 99 100 101 102 103 104 105 106 107 108\n",
        "109 110 111 112 113 114 115 116 117 118 119 120\n",
        "121 122 123 124 125 126 127 128 129 130 131 132\n",
        "133 134 135 136 137 138 139 140 141 142 143 144"
      ],
      "metadata": {
        "colab": {
          "base_uri": "https://localhost:8080/"
        },
        "id": "q-Y0Zupnd7fc",
        "outputId": "a1a66a8e-e5ff-4d20-dff7-d897cfce8ed4"
      },
      "execution_count": 9,
      "outputs": [
        {
          "output_type": "stream",
          "name": "stdout",
          "text": [
            "Writing A_12.Text\n"
          ]
        }
      ]
    },
    {
      "cell_type": "code",
      "source": [
        "%%writefile B_12.Text\n",
        "12\n",
        "1 0 0 0 0 0 0 0 0 0 0 0\n",
        "0 1 0 0 0 0 0 0 0 0 0 0\n",
        "0 0 1 0 0 0 0 0 0 0 0 0\n",
        "0 0 0 1 0 0 0 0 0 0 0 0\n",
        "0 0 0 0 1 0 0 0 0 0 0 0\n",
        "0 0 0 0 0 1 0 0 0 0 0 0\n",
        "0 0 0 0 0 0 1 0 0 0 0 0\n",
        "0 0 0 0 0 0 0 1 0 0 0 0\n",
        "0 0 0 0 0 0 0 0 1 0 0 0\n",
        "0 0 0 0 0 0 0 0 0 1 0 0\n",
        "0 0 0 0 0 0 0 0 0 0 1 0\n",
        "0 0 0 0 0 0 0 0 0 0 0 1"
      ],
      "metadata": {
        "colab": {
          "base_uri": "https://localhost:8080/"
        },
        "id": "HkwvVvqteKID",
        "outputId": "ba5613b0-377e-4968-8186-008e601ba3bf"
      },
      "execution_count": 10,
      "outputs": [
        {
          "output_type": "stream",
          "name": "stdout",
          "text": [
            "Writing B_12.Text\n"
          ]
        }
      ]
    },
    {
      "cell_type": "markdown",
      "source": [
        "And now we run the code again:\n"
      ],
      "metadata": {
        "id": "YpJ4nVJdeejT"
      }
    },
    {
      "cell_type": "code",
      "source": [
        "!python3 matrix_multiplication.py A_12.Text B_12.Text"
      ],
      "metadata": {
        "colab": {
          "base_uri": "https://localhost:8080/"
        },
        "id": "xzHlGS8rebGs",
        "outputId": "2249a184-cc3f-4b47-a17c-82ae5faed6f0"
      },
      "execution_count": 11,
      "outputs": [
        {
          "output_type": "stream",
          "name": "stdout",
          "text": [
            "The matrix contained in the file  A_12.Text  is: \n",
            "[1, 2, 3, 4, 5, 6, 7, 8, 9, 10, 11, 12]\n",
            "[13, 14, 15, 16, 17, 18, 19, 20, 21, 22, 23, 24]\n",
            "[25, 26, 27, 28, 29, 30, 31, 32, 33, 34, 35, 36]\n",
            "[37, 38, 39, 40, 41, 42, 43, 44, 45, 46, 47, 48]\n",
            "[49, 50, 51, 52, 53, 54, 55, 56, 57, 58, 59, 60]\n",
            "[61, 62, 63, 64, 65, 66, 67, 68, 69, 70, 71, 72]\n",
            "[73, 74, 75, 76, 77, 78, 79, 80, 81, 82, 83, 84]\n",
            "[85, 86, 87, 88, 89, 90, 91, 92, 93, 94, 95, 96]\n",
            "[97, 98, 99, 100, 101, 102, 103, 104, 105, 106, 107, 108]\n",
            "[109, 110, 111, 112, 113, 114, 115, 116, 117, 118, 119, 120]\n",
            "[121, 122, 123, 124, 125, 126, 127, 128, 129, 130, 131, 132]\n",
            "[133, 134, 135, 136, 137, 138, 139, 140, 141, 142, 143, 144]\n",
            "The matrix contained in the file  B_12.Text  is: \n",
            "[1, 0, 0, 0, 0, 0, 0, 0, 0, 0, 0, 0]\n",
            "[0, 1, 0, 0, 0, 0, 0, 0, 0, 0, 0, 0]\n",
            "[0, 0, 1, 0, 0, 0, 0, 0, 0, 0, 0, 0]\n",
            "[0, 0, 0, 1, 0, 0, 0, 0, 0, 0, 0, 0]\n",
            "[0, 0, 0, 0, 1, 0, 0, 0, 0, 0, 0, 0]\n",
            "[0, 0, 0, 0, 0, 1, 0, 0, 0, 0, 0, 0]\n",
            "[0, 0, 0, 0, 0, 0, 1, 0, 0, 0, 0, 0]\n",
            "[0, 0, 0, 0, 0, 0, 0, 1, 0, 0, 0, 0]\n",
            "[0, 0, 0, 0, 0, 0, 0, 0, 1, 0, 0, 0]\n",
            "[0, 0, 0, 0, 0, 0, 0, 0, 0, 1, 0, 0]\n",
            "[0, 0, 0, 0, 0, 0, 0, 0, 0, 0, 1, 0]\n",
            "[0, 0, 0, 0, 0, 0, 0, 0, 0, 0, 0, 1]\n",
            "Time required to carry out the computation:  0.0009119510650634766\n",
            "1  2  3  4  5  6  7  8  9  10  11  12  \n",
            "\n",
            "13  14  15  16  17  18  19  20  21  22  23  24  \n",
            "\n",
            "25  26  27  28  29  30  31  32  33  34  35  36  \n",
            "\n",
            "37  38  39  40  41  42  43  44  45  46  47  48  \n",
            "\n",
            "49  50  51  52  53  54  55  56  57  58  59  60  \n",
            "\n",
            "61  62  63  64  65  66  67  68  69  70  71  72  \n",
            "\n",
            "73  74  75  76  77  78  79  80  81  82  83  84  \n",
            "\n",
            "85  86  87  88  89  90  91  92  93  94  95  96  \n",
            "\n",
            "97  98  99  100  101  102  103  104  105  106  107  108  \n",
            "\n",
            "109  110  111  112  113  114  115  116  117  118  119  120  \n",
            "\n",
            "121  122  123  124  125  126  127  128  129  130  131  132  \n",
            "\n",
            "133  134  135  136  137  138  139  140  141  142  143  144  \n",
            "\n"
          ]
        }
      ]
    },
    {
      "cell_type": "markdown",
      "source": [
        "Save your version of this notebook in your drive on Google.\n",
        "On Blackboard, write the URL for your notebook."
      ],
      "metadata": {
        "id": "0K62bYR2j1g9"
      }
    },
    {
      "cell_type": "markdown",
      "source": [
        "# Profiling\n",
        "\n",
        "Building on the previous activity, now we will use a line profiler with python.\n",
        "This will give us insight into where the code is spending most of its time.\n",
        "\n",
        "We start by executing the Python package that will allow us to profile the execution of a python program."
      ],
      "metadata": {
        "id": "2PHPA1sj-IwW"
      }
    },
    {
      "cell_type": "code",
      "source": [
        "!pip install line_profiler\n"
      ],
      "metadata": {
        "colab": {
          "base_uri": "https://localhost:8080/"
        },
        "id": "Il6XGj_b-YIN",
        "outputId": "75d790b4-67d4-4fae-9089-20d8f4b4d867"
      },
      "execution_count": 12,
      "outputs": [
        {
          "output_type": "stream",
          "name": "stdout",
          "text": [
            "Collecting line_profiler\n",
            "  Downloading line_profiler-4.1.3-cp310-cp310-manylinux_2_17_x86_64.manylinux2014_x86_64.whl.metadata (34 kB)\n",
            "Downloading line_profiler-4.1.3-cp310-cp310-manylinux_2_17_x86_64.manylinux2014_x86_64.whl (717 kB)\n",
            "\u001b[2K   \u001b[90m━━━━━━━━━━━━━━━━━━━━━━━━━━━━━━━━━━━━━━━━\u001b[0m \u001b[32m717.6/717.6 kB\u001b[0m \u001b[31m14.3 MB/s\u001b[0m eta \u001b[36m0:00:00\u001b[0m\n",
            "\u001b[?25hInstalling collected packages: line_profiler\n",
            "Successfully installed line_profiler-4.1.3\n"
          ]
        }
      ]
    },
    {
      "cell_type": "markdown",
      "source": [
        "We need to add a decorator to the source code:\n",
        "\n",
        "@profile"
      ],
      "metadata": {
        "id": "4cG3A59--mwu"
      }
    },
    {
      "cell_type": "code",
      "source": [
        "%%writefile matrix_multiplication.py\n",
        "import sys\n",
        "import time\n",
        "\n",
        "def read_file(file_name):\n",
        "  file_object = open(file_name, \"r\")\n",
        "  # Input the number of rows and columns\n",
        "  size = int(file_object.readline())\n",
        "  rows = size\n",
        "  cols = size\n",
        "  # Initialize an empty matrix\n",
        "  matrix = []\n",
        "\n",
        "  # Input the matrix elements\n",
        "  for i in range(rows):\n",
        "    row = list(map(int, file_object.readline().split()))\n",
        "    matrix.append(row)\n",
        "  # Display the matrix\n",
        "  #print(\"The matrix contained in the file \",file_name,\" is: \")\n",
        "  #for row in matrix:\n",
        "  #  print(row)\n",
        "  return matrix,size\n",
        "\n",
        "# Main code\n",
        "@profile\n",
        "def matrix_multiplication():\n",
        "# Read the content of the files passed in the command line\n",
        "# that contain the matrices to be multiplied\n",
        "  A,size = read_file(sys.argv[1])\n",
        "  B,size = read_file(sys.argv[2])\n",
        "\n",
        "# Initialize the result matrix to 0s\n",
        "  C = [[0 for x in range(size)] for y in range(size)]\n",
        "\n",
        "# Multiply the matrices\n",
        "  N = size\n",
        "  start_time = time.time()\n",
        "  for i in range(N):\n",
        "    for j in range(N):\n",
        "      for k in range(N):\n",
        "        C[i][j] += A[i][k]*B[k][j]\n",
        "\n",
        "  end_time = time.time()\n",
        "  elapsed_time = end_time - start_time\n",
        "  print(\"Time required to carry out the computation: \",elapsed_time)\n",
        "\n",
        "# Print out the resulting matrix\n",
        "# for i in range(N):\n",
        "#  for j in range(N):\n",
        "#    print(C[i][j],\" \",end=\"\")\n",
        "# print(\"\\n\")\n",
        "\n",
        "if __name__ == \"__main__\":\n",
        "  matrix_multiplication()"
      ],
      "metadata": {
        "colab": {
          "base_uri": "https://localhost:8080/"
        },
        "id": "80loZH1v-xlW",
        "outputId": "b56801cb-3782-4dcf-d024-381fc92a12de"
      },
      "execution_count": 13,
      "outputs": [
        {
          "output_type": "stream",
          "name": "stdout",
          "text": [
            "Overwriting matrix_multiplication.py\n"
          ]
        }
      ]
    },
    {
      "cell_type": "markdown",
      "source": [
        "Now we execute the code to collect the profiling information.\n",
        "Initially, we will execute the program with the two matrices of size $4 \\times 4$"
      ],
      "metadata": {
        "id": "5DUobOgQ_OWu"
      }
    },
    {
      "cell_type": "code",
      "source": [
        "!kernprof -l matrix_multiplication.py A_4.Text B_4.Text"
      ],
      "metadata": {
        "colab": {
          "base_uri": "https://localhost:8080/"
        },
        "id": "Di0qmGEe_SYV",
        "outputId": "b4740820-1ef3-4334-8e14-e9cc639d601c"
      },
      "execution_count": 14,
      "outputs": [
        {
          "output_type": "stream",
          "name": "stdout",
          "text": [
            "Time required to carry out the computation:  0.00013685226440429688\n",
            "Wrote profile results to matrix_multiplication.py.lprof\n",
            "Inspect results with:\n",
            "python3 -m line_profiler -rmt \"matrix_multiplication.py.lprof\"\n"
          ]
        }
      ]
    },
    {
      "cell_type": "markdown",
      "source": [
        "And now we look at the profiling information collected during the execution of the program:"
      ],
      "metadata": {
        "id": "yeIGG9CC_n_V"
      }
    },
    {
      "cell_type": "code",
      "source": [
        "!python3 -m line_profiler -rmt  \"matrix_multiplication.py.lprof\""
      ],
      "metadata": {
        "colab": {
          "base_uri": "https://localhost:8080/"
        },
        "id": "o1sjkYlo_tFt",
        "outputId": "4b0a45e7-ec9e-4425-8482-fe37b53ce82c"
      },
      "execution_count": 15,
      "outputs": [
        {
          "output_type": "stream",
          "name": "stdout",
          "text": [
            "Timer unit: 1e-06 s\n",
            "\n",
            "Total time: 0.000346572 s\n",
            "File: matrix_multiplication.py\n",
            "Function: matrix_multiplication at line 24\n",
            "\n",
            "Line #      Hits         Time  Per Hit   % Time  Line Contents\n",
            "==============================================================\n",
            "    \u001b[1;36m24\u001b[0m                                           \u001b[92;49m@profile\u001b[0m                                           \n",
            "    \u001b[1;36m25\u001b[0m                                           \u001b[96;49mdef\u001b[0m\u001b[97;49m \u001b[0m\u001b[92;49mmatrix_multiplication\u001b[0m\u001b[97;49m(\u001b[0m\u001b[97;49m)\u001b[0m\u001b[97;49m:\u001b[0m                       \n",
            "    \u001b[1;36m26\u001b[0m                                           \u001b[37;49m# Read the content of the files passed in the comm…\u001b[0m\n",
            "    \u001b[1;36m27\u001b[0m                                           \u001b[37;49m# that contain the matrices to be multiplied\u001b[0m       \n",
            "    \u001b[1;36m28\u001b[0m         \u001b[1;36m1\u001b[0m        \u001b[1;36m159.9\u001b[0m    \u001b[1;36m159.9\u001b[0m     \u001b[1;36m46.1\u001b[0m  \u001b[97;49m  \u001b[0m\u001b[97;49mA\u001b[0m\u001b[97;49m,\u001b[0m\u001b[97;49msize\u001b[0m\u001b[97;49m \u001b[0m\u001b[91;49m=\u001b[0m\u001b[97;49m \u001b[0m\u001b[97;49mread_file\u001b[0m\u001b[97;49m(\u001b[0m\u001b[97;49msys\u001b[0m\u001b[91;49m.\u001b[0m\u001b[97;49margv\u001b[0m\u001b[97;49m[\u001b[0m\u001b[37;49m1\u001b[0m\u001b[97;49m]\u001b[0m\u001b[97;49m)\u001b[0m                  \n",
            "    \u001b[1;36m29\u001b[0m         \u001b[1;36m1\u001b[0m         \u001b[1;36m67.1\u001b[0m     \u001b[1;36m67.1\u001b[0m     \u001b[1;36m19.4\u001b[0m  \u001b[97;49m  \u001b[0m\u001b[97;49mB\u001b[0m\u001b[97;49m,\u001b[0m\u001b[97;49msize\u001b[0m\u001b[97;49m \u001b[0m\u001b[91;49m=\u001b[0m\u001b[97;49m \u001b[0m\u001b[97;49mread_file\u001b[0m\u001b[97;49m(\u001b[0m\u001b[97;49msys\u001b[0m\u001b[91;49m.\u001b[0m\u001b[97;49margv\u001b[0m\u001b[97;49m[\u001b[0m\u001b[37;49m2\u001b[0m\u001b[97;49m]\u001b[0m\u001b[97;49m)\u001b[0m                  \n",
            "    \u001b[1;36m30\u001b[0m                                                                                              \n",
            "    \u001b[1;36m31\u001b[0m                                           \u001b[37;49m# Initialize the result matrix to 0s\u001b[0m               \n",
            "    \u001b[1;36m32\u001b[0m         \u001b[1;36m1\u001b[0m          \u001b[1;36m8.7\u001b[0m      \u001b[1;36m8.7\u001b[0m      \u001b[1;36m2.5\u001b[0m  \u001b[97;49m  \u001b[0m\u001b[97;49mC\u001b[0m\u001b[97;49m \u001b[0m\u001b[91;49m=\u001b[0m\u001b[97;49m \u001b[0m\u001b[97;49m[\u001b[0m\u001b[97;49m[\u001b[0m\u001b[37;49m0\u001b[0m\u001b[97;49m \u001b[0m\u001b[96;49mfor\u001b[0m\u001b[97;49m \u001b[0m\u001b[97;49mx\u001b[0m\u001b[97;49m \u001b[0m\u001b[91;49min\u001b[0m\u001b[97;49m \u001b[0m\u001b[97;49mrange\u001b[0m\u001b[97;49m(\u001b[0m\u001b[97;49msize\u001b[0m\u001b[97;49m)\u001b[0m\u001b[97;49m]\u001b[0m\u001b[97;49m \u001b[0m\u001b[96;49mfor\u001b[0m\u001b[97;49m \u001b[0m\u001b[97;49my\u001b[0m\u001b[97;49m \u001b[0m\u001b[91;49min\u001b[0m\u001b[97;49m \u001b[0m\u001b[97;49mrange\u001b[0m\u001b[97;49m(\u001b[0m\u001b[97;49msiz…\u001b[0m\n",
            "    \u001b[1;36m33\u001b[0m                                                                                              \n",
            "    \u001b[1;36m34\u001b[0m                                           \u001b[37;49m# Multiply the matrices\u001b[0m                            \n",
            "    \u001b[1;36m35\u001b[0m         \u001b[1;36m1\u001b[0m          \u001b[1;36m0.2\u001b[0m      \u001b[1;36m0.2\u001b[0m      \u001b[1;36m0.1\u001b[0m  \u001b[97;49m  \u001b[0m\u001b[97;49mN\u001b[0m\u001b[97;49m \u001b[0m\u001b[91;49m=\u001b[0m\u001b[97;49m \u001b[0m\u001b[97;49msize\u001b[0m                                         \n",
            "    \u001b[1;36m36\u001b[0m         \u001b[1;36m1\u001b[0m          \u001b[1;36m1.4\u001b[0m      \u001b[1;36m1.4\u001b[0m      \u001b[1;36m0.4\u001b[0m  \u001b[97;49m  \u001b[0m\u001b[97;49mstart_time\u001b[0m\u001b[97;49m \u001b[0m\u001b[91;49m=\u001b[0m\u001b[97;49m \u001b[0m\u001b[97;49mtime\u001b[0m\u001b[91;49m.\u001b[0m\u001b[97;49mtime\u001b[0m\u001b[97;49m(\u001b[0m\u001b[97;49m)\u001b[0m                         \n",
            "    \u001b[1;36m37\u001b[0m         \u001b[1;36m5\u001b[0m          \u001b[1;36m1.2\u001b[0m      \u001b[1;36m0.2\u001b[0m      \u001b[1;36m0.4\u001b[0m  \u001b[97;49m  \u001b[0m\u001b[96;49mfor\u001b[0m\u001b[97;49m \u001b[0m\u001b[97;49mi\u001b[0m\u001b[97;49m \u001b[0m\u001b[91;49min\u001b[0m\u001b[97;49m \u001b[0m\u001b[97;49mrange\u001b[0m\u001b[97;49m(\u001b[0m\u001b[97;49mN\u001b[0m\u001b[97;49m)\u001b[0m\u001b[97;49m:\u001b[0m                               \n",
            "    \u001b[1;36m38\u001b[0m        \u001b[1;36m20\u001b[0m          \u001b[1;36m4.8\u001b[0m      \u001b[1;36m0.2\u001b[0m      \u001b[1;36m1.4\u001b[0m  \u001b[97;49m    \u001b[0m\u001b[96;49mfor\u001b[0m\u001b[97;49m \u001b[0m\u001b[97;49mj\u001b[0m\u001b[97;49m \u001b[0m\u001b[91;49min\u001b[0m\u001b[97;49m \u001b[0m\u001b[97;49mrange\u001b[0m\u001b[97;49m(\u001b[0m\u001b[97;49mN\u001b[0m\u001b[97;49m)\u001b[0m\u001b[97;49m:\u001b[0m                             \n",
            "    \u001b[1;36m39\u001b[0m        \u001b[1;36m80\u001b[0m         \u001b[1;36m20.9\u001b[0m      \u001b[1;36m0.3\u001b[0m      \u001b[1;36m6.0\u001b[0m  \u001b[97;49m      \u001b[0m\u001b[96;49mfor\u001b[0m\u001b[97;49m \u001b[0m\u001b[97;49mk\u001b[0m\u001b[97;49m \u001b[0m\u001b[91;49min\u001b[0m\u001b[97;49m \u001b[0m\u001b[97;49mrange\u001b[0m\u001b[97;49m(\u001b[0m\u001b[97;49mN\u001b[0m\u001b[97;49m)\u001b[0m\u001b[97;49m:\u001b[0m                           \n",
            "    \u001b[1;36m40\u001b[0m        \u001b[1;36m64\u001b[0m         \u001b[1;36m50.9\u001b[0m      \u001b[1;36m0.8\u001b[0m     \u001b[1;36m14.7\u001b[0m  \u001b[97;49m        \u001b[0m\u001b[97;49mC\u001b[0m\u001b[97;49m[\u001b[0m\u001b[97;49mi\u001b[0m\u001b[97;49m]\u001b[0m\u001b[97;49m[\u001b[0m\u001b[97;49mj\u001b[0m\u001b[97;49m]\u001b[0m\u001b[97;49m \u001b[0m\u001b[91;49m+\u001b[0m\u001b[91;49m=\u001b[0m\u001b[97;49m \u001b[0m\u001b[97;49mA\u001b[0m\u001b[97;49m[\u001b[0m\u001b[97;49mi\u001b[0m\u001b[97;49m]\u001b[0m\u001b[97;49m[\u001b[0m\u001b[97;49mk\u001b[0m\u001b[97;49m]\u001b[0m\u001b[91;49m*\u001b[0m\u001b[97;49mB\u001b[0m\u001b[97;49m[\u001b[0m\u001b[97;49mk\u001b[0m\u001b[97;49m]\u001b[0m\u001b[97;49m[\u001b[0m\u001b[97;49mj\u001b[0m\u001b[97;49m]\u001b[0m                 \n",
            "    \u001b[1;36m41\u001b[0m                                                                                              \n",
            "    \u001b[1;36m42\u001b[0m         \u001b[1;36m1\u001b[0m          \u001b[1;36m0.4\u001b[0m      \u001b[1;36m0.4\u001b[0m      \u001b[1;36m0.1\u001b[0m  \u001b[97;49m  \u001b[0m\u001b[97;49mend_time\u001b[0m\u001b[97;49m \u001b[0m\u001b[91;49m=\u001b[0m\u001b[97;49m \u001b[0m\u001b[97;49mtime\u001b[0m\u001b[91;49m.\u001b[0m\u001b[97;49mtime\u001b[0m\u001b[97;49m(\u001b[0m\u001b[97;49m)\u001b[0m                           \n",
            "    \u001b[1;36m43\u001b[0m         \u001b[1;36m1\u001b[0m          \u001b[1;36m0.7\u001b[0m      \u001b[1;36m0.7\u001b[0m      \u001b[1;36m0.2\u001b[0m  \u001b[97;49m  \u001b[0m\u001b[97;49melapsed_time\u001b[0m\u001b[97;49m \u001b[0m\u001b[91;49m=\u001b[0m\u001b[97;49m \u001b[0m\u001b[97;49mend_time\u001b[0m\u001b[97;49m \u001b[0m\u001b[91;49m-\u001b[0m\u001b[97;49m \u001b[0m\u001b[97;49mstart_time\u001b[0m             \n",
            "    \u001b[1;36m44\u001b[0m         \u001b[1;36m1\u001b[0m         \u001b[1;36m30.5\u001b[0m     \u001b[1;36m30.5\u001b[0m      \u001b[1;36m8.8\u001b[0m  \u001b[97;49m  \u001b[0m\u001b[97;49mprint\u001b[0m\u001b[97;49m(\u001b[0m\u001b[93;49m\"\u001b[0m\u001b[93;49mTime required to carry out the computatio…\u001b[0m\n",
            "\n",
            "\n",
            "  0.00 seconds - matrix_multiplication.py:24 - matrix_multiplication\n"
          ]
        }
      ]
    },
    {
      "cell_type": "markdown",
      "source": [
        "For the purpose of this activity, we will download four additional files.\n",
        "These files contain larger matrices.\n",
        "Two matrices are of size $100 \\times 100$ and two matrices of size $200 \\times 200$"
      ],
      "metadata": {
        "id": "5sgnxwxIMtbn"
      }
    },
    {
      "cell_type": "code",
      "source": [
        "!wget https://faculty.computing.gvsu.edu/trefftzc/cs677/A_100.Text\n",
        "!wget https://faculty.computing.gvsu.edu/trefftzc/cs677/B_100.Text\n",
        "!wget https://faculty.computing.gvsu.edu/trefftzc/cs677/A_200.Text\n",
        "!wget https://faculty.computing.gvsu.edu/trefftzc/cs677/B_200.Text"
      ],
      "metadata": {
        "colab": {
          "base_uri": "https://localhost:8080/"
        },
        "id": "wHbrkHzvMcmn",
        "outputId": "baac99ec-102b-47a4-ba4b-998524ed8a4d"
      },
      "execution_count": 16,
      "outputs": [
        {
          "output_type": "stream",
          "name": "stdout",
          "text": [
            "--2024-09-10 22:07:17--  https://faculty.computing.gvsu.edu/trefftzc/cs677/A_100.Text\n",
            "Resolving faculty.computing.gvsu.edu (faculty.computing.gvsu.edu)... 104.17.87.18, 104.17.88.18, 2606:4700::6811:5712, ...\n",
            "Connecting to faculty.computing.gvsu.edu (faculty.computing.gvsu.edu)|104.17.87.18|:443... connected.\n",
            "HTTP request sent, awaiting response... 200 OK\n",
            "Length: 48998 (48K) [text/plain]\n",
            "Saving to: ‘A_100.Text’\n",
            "\n",
            "\rA_100.Text            0%[                    ]       0  --.-KB/s               \rA_100.Text          100%[===================>]  47.85K  --.-KB/s    in 0.05s   \n",
            "\n",
            "2024-09-10 22:07:17 (882 KB/s) - ‘A_100.Text’ saved [48998/48998]\n",
            "\n",
            "--2024-09-10 22:07:17--  https://faculty.computing.gvsu.edu/trefftzc/cs677/B_100.Text\n",
            "Resolving faculty.computing.gvsu.edu (faculty.computing.gvsu.edu)... 104.17.87.18, 104.17.88.18, 2606:4700::6811:5712, ...\n",
            "Connecting to faculty.computing.gvsu.edu (faculty.computing.gvsu.edu)|104.17.87.18|:443... connected.\n",
            "HTTP request sent, awaiting response... 200 OK\n",
            "Length: 20104 (20K) [text/plain]\n",
            "Saving to: ‘B_100.Text’\n",
            "\n",
            "B_100.Text          100%[===================>]  19.63K  --.-KB/s    in 0.02s   \n",
            "\n",
            "2024-09-10 22:07:17 (807 KB/s) - ‘B_100.Text’ saved [20104/20104]\n",
            "\n",
            "--2024-09-10 22:07:17--  https://faculty.computing.gvsu.edu/trefftzc/cs677/A_200.Text\n",
            "Resolving faculty.computing.gvsu.edu (faculty.computing.gvsu.edu)... 104.17.87.18, 104.17.88.18, 2606:4700::6811:5712, ...\n",
            "Connecting to faculty.computing.gvsu.edu (faculty.computing.gvsu.edu)|104.17.87.18|:443... connected.\n",
            "HTTP request sent, awaiting response... 200 OK\n",
            "Length: 229098 (224K) [text/plain]\n",
            "Saving to: ‘A_200.Text’\n",
            "\n",
            "A_200.Text          100%[===================>] 223.73K  --.-KB/s    in 0.1s    \n",
            "\n",
            "2024-09-10 22:07:18 (1.90 MB/s) - ‘A_200.Text’ saved [229098/229098]\n",
            "\n",
            "--2024-09-10 22:07:18--  https://faculty.computing.gvsu.edu/trefftzc/cs677/B_200.Text\n",
            "Resolving faculty.computing.gvsu.edu (faculty.computing.gvsu.edu)... 104.17.87.18, 104.17.88.18, 2606:4700::6811:5712, ...\n",
            "Connecting to faculty.computing.gvsu.edu (faculty.computing.gvsu.edu)|104.17.87.18|:443... connected.\n",
            "HTTP request sent, awaiting response... 200 OK\n",
            "Length: 80204 (78K) [text/plain]\n",
            "Saving to: ‘B_200.Text’\n",
            "\n",
            "B_200.Text          100%[===================>]  78.32K  --.-KB/s    in 0.06s   \n",
            "\n",
            "2024-09-10 22:07:18 (1.31 MB/s) - ‘B_200.Text’ saved [80204/80204]\n",
            "\n"
          ]
        }
      ]
    },
    {
      "cell_type": "markdown",
      "source": [
        "Repeat the profiling procedure with:\n",
        "\n",
        "\n",
        "1.   The matrices of size $100 \\times 100$\n",
        "2.   The matrices of size $200 \\times 200$\n",
        "\n",
        "The matrix multiplication procedure consists of lines 37 through 40.\n",
        "\n",
        "Notice that fifth column in the report contains the percentage of the total execution time that is spent on a particular instruction.\n",
        "\n",
        "In the back of your reading assignment summary answering the following questions?\n",
        "\n",
        "1. Add the percentages spent on lines 37 through 40 for the multiplication of the matrices of size $100 \\times 100$.\n",
        "\n",
        "2. For the sake of this exercise, let's assume that the matrix multiplication part of this code is the only part that can be parallelized. So, your answer to the previous question (as a value between 0 and 1.0) is the portion $p$ of the program that can be parallelized. Use this simplified version of Amdahl's law: $maxSpeedUp = \\frac{1}{1-p}$. What is the maximum speedup that Amdahl's law predicts for this python code for matrix multiplication with a problem of size $100 \\times 100$\n",
        "\n",
        "3. Add the percentages spent on lines 37 through 40 for the multiplication of the matrices of size $200 \\times 200$.\n",
        "\n",
        "4. Again, use this simplified version of Amdahl's law: $maxSpeedUp = \\frac{1}{1-p}$. What is the maximum speedup that Amdahl's law predicts for this python code for matrix multiplication with a problem of size $200 \\times 200$\n",
        "\n",
        "5. Given these results, it seems reasonable to conclude that the maximum speedup will depend on the size of the problem and that better speedups will be obtained with larger problem sizes. Do you agree with this conclusion? Why?\n",
        "\n",
        "\n",
        "\n"
      ],
      "metadata": {
        "id": "sQpqmXT3BaUu"
      }
    },
    {
      "cell_type": "code",
      "source": [
        "!ls -la\n"
      ],
      "metadata": {
        "colab": {
          "base_uri": "https://localhost:8080/"
        },
        "id": "4LPk6QflRUaI",
        "outputId": "248c8607-3bb6-49d5-9bdd-dd48bcd2ce83"
      },
      "execution_count": 17,
      "outputs": [
        {
          "output_type": "stream",
          "name": "stdout",
          "text": [
            "total 420\n",
            "drwxr-xr-x 1 root root   4096 Sep 10 22:07 .\n",
            "drwxr-xr-x 1 root root   4096 Sep 10 22:06 ..\n",
            "-rw-r--r-- 1 root root  48998 Sep 10 13:45 A_100.Text\n",
            "-rw-r--r-- 1 root root    471 Sep 10 22:07 A_12.Text\n",
            "-rw-r--r-- 1 root root 229098 Sep 10 14:16 A_200.Text\n",
            "-rw-r--r-- 1 root root     41 Sep 10 22:07 A_4.Text\n",
            "-rw-r--r-- 1 root root    185 Sep 10 22:07 A_8.Text\n",
            "-rw-r--r-- 1 root root  20104 Sep 10 13:45 B_100.Text\n",
            "-rw-r--r-- 1 root root    291 Sep 10 22:07 B_12.Text\n",
            "-rw-r--r-- 1 root root  80204 Sep 10 13:45 B_200.Text\n",
            "-rw-r--r-- 1 root root     34 Sep 10 22:07 B_4.Text\n",
            "-rw-r--r-- 1 root root    130 Sep 10 22:07 B_8.Text\n",
            "drwxr-xr-x 4 root root   4096 Sep  9 13:22 .config\n",
            "-rw-r--r-- 1 root root   1311 Sep 10 22:07 matrix_multiplication.py\n",
            "-rw-r--r-- 1 root root    264 Sep 10 22:07 matrix_multiplication.py.lprof\n",
            "drwxr-xr-x 1 root root   4096 Sep  9 13:22 sample_data\n"
          ]
        }
      ]
    },
    {
      "cell_type": "code",
      "source": [
        "!kernprof -l matrix_multiplication.py A_100.Text B_100.Text"
      ],
      "metadata": {
        "colab": {
          "base_uri": "https://localhost:8080/"
        },
        "id": "BYFuzeTaQkhQ",
        "outputId": "438c0858-7e0d-413b-82d8-0c3128bbaacd"
      },
      "execution_count": 18,
      "outputs": [
        {
          "output_type": "stream",
          "name": "stdout",
          "text": [
            "Time required to carry out the computation:  5.575166940689087\n",
            "Wrote profile results to matrix_multiplication.py.lprof\n",
            "Inspect results with:\n",
            "python3 -m line_profiler -rmt \"matrix_multiplication.py.lprof\"\n"
          ]
        }
      ]
    },
    {
      "cell_type": "code",
      "source": [
        "!python3 -m line_profiler -rmt  \"matrix_multiplication.py.lprof\""
      ],
      "metadata": {
        "colab": {
          "base_uri": "https://localhost:8080/"
        },
        "id": "LmDQBGnvQ_3o",
        "outputId": "9cee7c14-4623-4119-f740-e94f46207fbe"
      },
      "execution_count": 19,
      "outputs": [
        {
          "output_type": "stream",
          "name": "stdout",
          "text": [
            "Timer unit: 1e-06 s\n",
            "\n",
            "Total time: 3.39644 s\n",
            "File: matrix_multiplication.py\n",
            "Function: matrix_multiplication at line 24\n",
            "\n",
            "Line #      Hits         Time  Per Hit   % Time  Line Contents\n",
            "==============================================================\n",
            "    \u001b[1;36m24\u001b[0m                                           \u001b[92;49m@profile\u001b[0m                                           \n",
            "    \u001b[1;36m25\u001b[0m                                           \u001b[96;49mdef\u001b[0m\u001b[97;49m \u001b[0m\u001b[92;49mmatrix_multiplication\u001b[0m\u001b[97;49m(\u001b[0m\u001b[97;49m)\u001b[0m\u001b[97;49m:\u001b[0m                       \n",
            "    \u001b[1;36m26\u001b[0m                                           \u001b[37;49m# Read the content of the files passed in the comm…\u001b[0m\n",
            "    \u001b[1;36m27\u001b[0m                                           \u001b[37;49m# that contain the matrices to be multiplied\u001b[0m       \n",
            "    \u001b[1;36m28\u001b[0m         \u001b[1;36m1\u001b[0m      \u001b[1;36m12578.1\u001b[0m  \u001b[1;36m12578.1\u001b[0m      \u001b[1;36m0.4\u001b[0m  \u001b[97;49m  \u001b[0m\u001b[97;49mA\u001b[0m\u001b[97;49m,\u001b[0m\u001b[97;49msize\u001b[0m\u001b[97;49m \u001b[0m\u001b[91;49m=\u001b[0m\u001b[97;49m \u001b[0m\u001b[97;49mread_file\u001b[0m\u001b[97;49m(\u001b[0m\u001b[97;49msys\u001b[0m\u001b[91;49m.\u001b[0m\u001b[97;49margv\u001b[0m\u001b[97;49m[\u001b[0m\u001b[37;49m1\u001b[0m\u001b[97;49m]\u001b[0m\u001b[97;49m)\u001b[0m                  \n",
            "    \u001b[1;36m29\u001b[0m         \u001b[1;36m1\u001b[0m       \u001b[1;36m6146.0\u001b[0m   \u001b[1;36m6146.0\u001b[0m      \u001b[1;36m0.2\u001b[0m  \u001b[97;49m  \u001b[0m\u001b[97;49mB\u001b[0m\u001b[97;49m,\u001b[0m\u001b[97;49msize\u001b[0m\u001b[97;49m \u001b[0m\u001b[91;49m=\u001b[0m\u001b[97;49m \u001b[0m\u001b[97;49mread_file\u001b[0m\u001b[97;49m(\u001b[0m\u001b[97;49msys\u001b[0m\u001b[91;49m.\u001b[0m\u001b[97;49margv\u001b[0m\u001b[97;49m[\u001b[0m\u001b[37;49m2\u001b[0m\u001b[97;49m]\u001b[0m\u001b[97;49m)\u001b[0m                  \n",
            "    \u001b[1;36m30\u001b[0m                                                                                              \n",
            "    \u001b[1;36m31\u001b[0m                                           \u001b[37;49m# Initialize the result matrix to 0s\u001b[0m               \n",
            "    \u001b[1;36m32\u001b[0m         \u001b[1;36m1\u001b[0m       \u001b[1;36m5552.1\u001b[0m   \u001b[1;36m5552.1\u001b[0m      \u001b[1;36m0.2\u001b[0m  \u001b[97;49m  \u001b[0m\u001b[97;49mC\u001b[0m\u001b[97;49m \u001b[0m\u001b[91;49m=\u001b[0m\u001b[97;49m \u001b[0m\u001b[97;49m[\u001b[0m\u001b[97;49m[\u001b[0m\u001b[37;49m0\u001b[0m\u001b[97;49m \u001b[0m\u001b[96;49mfor\u001b[0m\u001b[97;49m \u001b[0m\u001b[97;49mx\u001b[0m\u001b[97;49m \u001b[0m\u001b[91;49min\u001b[0m\u001b[97;49m \u001b[0m\u001b[97;49mrange\u001b[0m\u001b[97;49m(\u001b[0m\u001b[97;49msize\u001b[0m\u001b[97;49m)\u001b[0m\u001b[97;49m]\u001b[0m\u001b[97;49m \u001b[0m\u001b[96;49mfor\u001b[0m\u001b[97;49m \u001b[0m\u001b[97;49my\u001b[0m\u001b[97;49m \u001b[0m\u001b[91;49min\u001b[0m\u001b[97;49m \u001b[0m\u001b[97;49mrange\u001b[0m\u001b[97;49m(\u001b[0m\u001b[97;49msiz…\u001b[0m\n",
            "    \u001b[1;36m33\u001b[0m                                                                                              \n",
            "    \u001b[1;36m34\u001b[0m                                           \u001b[37;49m# Multiply the matrices\u001b[0m                            \n",
            "    \u001b[1;36m35\u001b[0m         \u001b[1;36m1\u001b[0m          \u001b[1;36m1.0\u001b[0m      \u001b[1;36m1.0\u001b[0m      \u001b[1;36m0.0\u001b[0m  \u001b[97;49m  \u001b[0m\u001b[97;49mN\u001b[0m\u001b[97;49m \u001b[0m\u001b[91;49m=\u001b[0m\u001b[97;49m \u001b[0m\u001b[97;49msize\u001b[0m                                         \n",
            "    \u001b[1;36m36\u001b[0m         \u001b[1;36m1\u001b[0m          \u001b[1;36m5.5\u001b[0m      \u001b[1;36m5.5\u001b[0m      \u001b[1;36m0.0\u001b[0m  \u001b[97;49m  \u001b[0m\u001b[97;49mstart_time\u001b[0m\u001b[97;49m \u001b[0m\u001b[91;49m=\u001b[0m\u001b[97;49m \u001b[0m\u001b[97;49mtime\u001b[0m\u001b[91;49m.\u001b[0m\u001b[97;49mtime\u001b[0m\u001b[97;49m(\u001b[0m\u001b[97;49m)\u001b[0m                         \n",
            "    \u001b[1;36m37\u001b[0m       \u001b[1;36m101\u001b[0m         \u001b[1;36m42.6\u001b[0m      \u001b[1;36m0.4\u001b[0m      \u001b[1;36m0.0\u001b[0m  \u001b[97;49m  \u001b[0m\u001b[96;49mfor\u001b[0m\u001b[97;49m \u001b[0m\u001b[97;49mi\u001b[0m\u001b[97;49m \u001b[0m\u001b[91;49min\u001b[0m\u001b[97;49m \u001b[0m\u001b[97;49mrange\u001b[0m\u001b[97;49m(\u001b[0m\u001b[97;49mN\u001b[0m\u001b[97;49m)\u001b[0m\u001b[97;49m:\u001b[0m                               \n",
            "    \u001b[1;36m38\u001b[0m     \u001b[1;36m10100\u001b[0m       \u001b[1;36m6528.2\u001b[0m      \u001b[1;36m0.6\u001b[0m      \u001b[1;36m0.2\u001b[0m  \u001b[97;49m    \u001b[0m\u001b[96;49mfor\u001b[0m\u001b[97;49m \u001b[0m\u001b[97;49mj\u001b[0m\u001b[97;49m \u001b[0m\u001b[91;49min\u001b[0m\u001b[97;49m \u001b[0m\u001b[97;49mrange\u001b[0m\u001b[97;49m(\u001b[0m\u001b[97;49mN\u001b[0m\u001b[97;49m)\u001b[0m\u001b[97;49m:\u001b[0m                             \n",
            "    \u001b[1;36m39\u001b[0m   \u001b[1;36m1010000\u001b[0m     \u001b[1;36m748971.3\u001b[0m      \u001b[1;36m0.7\u001b[0m     \u001b[1;36m22.1\u001b[0m  \u001b[97;49m      \u001b[0m\u001b[96;49mfor\u001b[0m\u001b[97;49m \u001b[0m\u001b[97;49mk\u001b[0m\u001b[97;49m \u001b[0m\u001b[91;49min\u001b[0m\u001b[97;49m \u001b[0m\u001b[97;49mrange\u001b[0m\u001b[97;49m(\u001b[0m\u001b[97;49mN\u001b[0m\u001b[97;49m)\u001b[0m\u001b[97;49m:\u001b[0m                           \n",
            "    \u001b[1;36m40\u001b[0m   \u001b[1;36m1000000\u001b[0m    \u001b[1;36m2616541.8\u001b[0m      \u001b[1;36m2.6\u001b[0m     \u001b[1;36m77.0\u001b[0m  \u001b[97;49m        \u001b[0m\u001b[97;49mC\u001b[0m\u001b[97;49m[\u001b[0m\u001b[97;49mi\u001b[0m\u001b[97;49m]\u001b[0m\u001b[97;49m[\u001b[0m\u001b[97;49mj\u001b[0m\u001b[97;49m]\u001b[0m\u001b[97;49m \u001b[0m\u001b[91;49m+\u001b[0m\u001b[91;49m=\u001b[0m\u001b[97;49m \u001b[0m\u001b[97;49mA\u001b[0m\u001b[97;49m[\u001b[0m\u001b[97;49mi\u001b[0m\u001b[97;49m]\u001b[0m\u001b[97;49m[\u001b[0m\u001b[97;49mk\u001b[0m\u001b[97;49m]\u001b[0m\u001b[91;49m*\u001b[0m\u001b[97;49mB\u001b[0m\u001b[97;49m[\u001b[0m\u001b[97;49mk\u001b[0m\u001b[97;49m]\u001b[0m\u001b[97;49m[\u001b[0m\u001b[97;49mj\u001b[0m\u001b[97;49m]\u001b[0m                 \n",
            "    \u001b[1;36m41\u001b[0m                                                                                              \n",
            "    \u001b[1;36m42\u001b[0m         \u001b[1;36m1\u001b[0m          \u001b[1;36m5.1\u001b[0m      \u001b[1;36m5.1\u001b[0m      \u001b[1;36m0.0\u001b[0m  \u001b[97;49m  \u001b[0m\u001b[97;49mend_time\u001b[0m\u001b[97;49m \u001b[0m\u001b[91;49m=\u001b[0m\u001b[97;49m \u001b[0m\u001b[97;49mtime\u001b[0m\u001b[91;49m.\u001b[0m\u001b[97;49mtime\u001b[0m\u001b[97;49m(\u001b[0m\u001b[97;49m)\u001b[0m                           \n",
            "    \u001b[1;36m43\u001b[0m         \u001b[1;36m1\u001b[0m          \u001b[1;36m1.4\u001b[0m      \u001b[1;36m1.4\u001b[0m      \u001b[1;36m0.0\u001b[0m  \u001b[97;49m  \u001b[0m\u001b[97;49melapsed_time\u001b[0m\u001b[97;49m \u001b[0m\u001b[91;49m=\u001b[0m\u001b[97;49m \u001b[0m\u001b[97;49mend_time\u001b[0m\u001b[97;49m \u001b[0m\u001b[91;49m-\u001b[0m\u001b[97;49m \u001b[0m\u001b[97;49mstart_time\u001b[0m             \n",
            "    \u001b[1;36m44\u001b[0m         \u001b[1;36m1\u001b[0m         \u001b[1;36m62.7\u001b[0m     \u001b[1;36m62.7\u001b[0m      \u001b[1;36m0.0\u001b[0m  \u001b[97;49m  \u001b[0m\u001b[97;49mprint\u001b[0m\u001b[97;49m(\u001b[0m\u001b[93;49m\"\u001b[0m\u001b[93;49mTime required to carry out the computatio…\u001b[0m\n",
            "\n",
            "\n",
            "  3.40 seconds - matrix_multiplication.py:24 - matrix_multiplication\n"
          ]
        }
      ]
    },
    {
      "cell_type": "code",
      "source": [
        "!kernprof -l matrix_multiplication.py A_200.Text B_200.Text\n"
      ],
      "metadata": {
        "colab": {
          "base_uri": "https://localhost:8080/"
        },
        "id": "eoS7yoOlRz6O",
        "outputId": "3797b62c-4921-4a9f-9cf6-93b1c0775c94"
      },
      "execution_count": 20,
      "outputs": [
        {
          "output_type": "stream",
          "name": "stdout",
          "text": [
            "Time required to carry out the computation:  20.92465353012085\n",
            "Wrote profile results to matrix_multiplication.py.lprof\n",
            "Inspect results with:\n",
            "python3 -m line_profiler -rmt \"matrix_multiplication.py.lprof\"\n"
          ]
        }
      ]
    },
    {
      "cell_type": "code",
      "source": [
        "!python3 -m line_profiler -rmt  \"matrix_multiplication.py.lprof\""
      ],
      "metadata": {
        "colab": {
          "base_uri": "https://localhost:8080/"
        },
        "id": "3ldQS9LoTAhG",
        "outputId": "823e77ea-d9d8-456a-c030-036f84155100"
      },
      "execution_count": 21,
      "outputs": [
        {
          "output_type": "stream",
          "name": "stdout",
          "text": [
            "Timer unit: 1e-06 s\n",
            "\n",
            "Total time: 12.6451 s\n",
            "File: matrix_multiplication.py\n",
            "Function: matrix_multiplication at line 24\n",
            "\n",
            "Line #      Hits         Time  Per Hit   % Time  Line Contents\n",
            "==============================================================\n",
            "    \u001b[1;36m24\u001b[0m                                           \u001b[92;49m@profile\u001b[0m                                           \n",
            "    \u001b[1;36m25\u001b[0m                                           \u001b[96;49mdef\u001b[0m\u001b[97;49m \u001b[0m\u001b[92;49mmatrix_multiplication\u001b[0m\u001b[97;49m(\u001b[0m\u001b[97;49m)\u001b[0m\u001b[97;49m:\u001b[0m                       \n",
            "    \u001b[1;36m26\u001b[0m                                           \u001b[37;49m# Read the content of the files passed in the comm…\u001b[0m\n",
            "    \u001b[1;36m27\u001b[0m                                           \u001b[37;49m# that contain the matrices to be multiplied\u001b[0m       \n",
            "    \u001b[1;36m28\u001b[0m         \u001b[1;36m1\u001b[0m      \u001b[1;36m14706.7\u001b[0m  \u001b[1;36m14706.7\u001b[0m      \u001b[1;36m0.1\u001b[0m  \u001b[97;49m  \u001b[0m\u001b[97;49mA\u001b[0m\u001b[97;49m,\u001b[0m\u001b[97;49msize\u001b[0m\u001b[97;49m \u001b[0m\u001b[91;49m=\u001b[0m\u001b[97;49m \u001b[0m\u001b[97;49mread_file\u001b[0m\u001b[97;49m(\u001b[0m\u001b[97;49msys\u001b[0m\u001b[91;49m.\u001b[0m\u001b[97;49margv\u001b[0m\u001b[97;49m[\u001b[0m\u001b[37;49m1\u001b[0m\u001b[97;49m]\u001b[0m\u001b[97;49m)\u001b[0m                  \n",
            "    \u001b[1;36m29\u001b[0m         \u001b[1;36m1\u001b[0m       \u001b[1;36m6143.2\u001b[0m   \u001b[1;36m6143.2\u001b[0m      \u001b[1;36m0.0\u001b[0m  \u001b[97;49m  \u001b[0m\u001b[97;49mB\u001b[0m\u001b[97;49m,\u001b[0m\u001b[97;49msize\u001b[0m\u001b[97;49m \u001b[0m\u001b[91;49m=\u001b[0m\u001b[97;49m \u001b[0m\u001b[97;49mread_file\u001b[0m\u001b[97;49m(\u001b[0m\u001b[97;49msys\u001b[0m\u001b[91;49m.\u001b[0m\u001b[97;49margv\u001b[0m\u001b[97;49m[\u001b[0m\u001b[37;49m2\u001b[0m\u001b[97;49m]\u001b[0m\u001b[97;49m)\u001b[0m                  \n",
            "    \u001b[1;36m30\u001b[0m                                                                                              \n",
            "    \u001b[1;36m31\u001b[0m                                           \u001b[37;49m# Initialize the result matrix to 0s\u001b[0m               \n",
            "    \u001b[1;36m32\u001b[0m         \u001b[1;36m1\u001b[0m       \u001b[1;36m8377.7\u001b[0m   \u001b[1;36m8377.7\u001b[0m      \u001b[1;36m0.1\u001b[0m  \u001b[97;49m  \u001b[0m\u001b[97;49mC\u001b[0m\u001b[97;49m \u001b[0m\u001b[91;49m=\u001b[0m\u001b[97;49m \u001b[0m\u001b[97;49m[\u001b[0m\u001b[97;49m[\u001b[0m\u001b[37;49m0\u001b[0m\u001b[97;49m \u001b[0m\u001b[96;49mfor\u001b[0m\u001b[97;49m \u001b[0m\u001b[97;49mx\u001b[0m\u001b[97;49m \u001b[0m\u001b[91;49min\u001b[0m\u001b[97;49m \u001b[0m\u001b[97;49mrange\u001b[0m\u001b[97;49m(\u001b[0m\u001b[97;49msize\u001b[0m\u001b[97;49m)\u001b[0m\u001b[97;49m]\u001b[0m\u001b[97;49m \u001b[0m\u001b[96;49mfor\u001b[0m\u001b[97;49m \u001b[0m\u001b[97;49my\u001b[0m\u001b[97;49m \u001b[0m\u001b[91;49min\u001b[0m\u001b[97;49m \u001b[0m\u001b[97;49mrange\u001b[0m\u001b[97;49m(\u001b[0m\u001b[97;49msiz…\u001b[0m\n",
            "    \u001b[1;36m33\u001b[0m                                                                                              \n",
            "    \u001b[1;36m34\u001b[0m                                           \u001b[37;49m# Multiply the matrices\u001b[0m                            \n",
            "    \u001b[1;36m35\u001b[0m         \u001b[1;36m1\u001b[0m          \u001b[1;36m0.6\u001b[0m      \u001b[1;36m0.6\u001b[0m      \u001b[1;36m0.0\u001b[0m  \u001b[97;49m  \u001b[0m\u001b[97;49mN\u001b[0m\u001b[97;49m \u001b[0m\u001b[91;49m=\u001b[0m\u001b[97;49m \u001b[0m\u001b[97;49msize\u001b[0m                                         \n",
            "    \u001b[1;36m36\u001b[0m         \u001b[1;36m1\u001b[0m          \u001b[1;36m4.0\u001b[0m      \u001b[1;36m4.0\u001b[0m      \u001b[1;36m0.0\u001b[0m  \u001b[97;49m  \u001b[0m\u001b[97;49mstart_time\u001b[0m\u001b[97;49m \u001b[0m\u001b[91;49m=\u001b[0m\u001b[97;49m \u001b[0m\u001b[97;49mtime\u001b[0m\u001b[91;49m.\u001b[0m\u001b[97;49mtime\u001b[0m\u001b[97;49m(\u001b[0m\u001b[97;49m)\u001b[0m                         \n",
            "    \u001b[1;36m37\u001b[0m       \u001b[1;36m201\u001b[0m         \u001b[1;36m86.0\u001b[0m      \u001b[1;36m0.4\u001b[0m      \u001b[1;36m0.0\u001b[0m  \u001b[97;49m  \u001b[0m\u001b[96;49mfor\u001b[0m\u001b[97;49m \u001b[0m\u001b[97;49mi\u001b[0m\u001b[97;49m \u001b[0m\u001b[91;49min\u001b[0m\u001b[97;49m \u001b[0m\u001b[97;49mrange\u001b[0m\u001b[97;49m(\u001b[0m\u001b[97;49mN\u001b[0m\u001b[97;49m)\u001b[0m\u001b[97;49m:\u001b[0m                               \n",
            "    \u001b[1;36m38\u001b[0m     \u001b[1;36m40200\u001b[0m      \u001b[1;36m17149.3\u001b[0m      \u001b[1;36m0.4\u001b[0m      \u001b[1;36m0.1\u001b[0m  \u001b[97;49m    \u001b[0m\u001b[96;49mfor\u001b[0m\u001b[97;49m \u001b[0m\u001b[97;49mj\u001b[0m\u001b[97;49m \u001b[0m\u001b[91;49min\u001b[0m\u001b[97;49m \u001b[0m\u001b[97;49mrange\u001b[0m\u001b[97;49m(\u001b[0m\u001b[97;49mN\u001b[0m\u001b[97;49m)\u001b[0m\u001b[97;49m:\u001b[0m                             \n",
            "    \u001b[1;36m39\u001b[0m   \u001b[1;36m8040000\u001b[0m    \u001b[1;36m3040882.3\u001b[0m      \u001b[1;36m0.4\u001b[0m     \u001b[1;36m24.0\u001b[0m  \u001b[97;49m      \u001b[0m\u001b[96;49mfor\u001b[0m\u001b[97;49m \u001b[0m\u001b[97;49mk\u001b[0m\u001b[97;49m \u001b[0m\u001b[91;49min\u001b[0m\u001b[97;49m \u001b[0m\u001b[97;49mrange\u001b[0m\u001b[97;49m(\u001b[0m\u001b[97;49mN\u001b[0m\u001b[97;49m)\u001b[0m\u001b[97;49m:\u001b[0m                           \n",
            "    \u001b[1;36m40\u001b[0m   \u001b[1;36m8000000\u001b[0m    \u001b[1;36m9557660.9\u001b[0m      \u001b[1;36m1.2\u001b[0m     \u001b[1;36m75.6\u001b[0m  \u001b[97;49m        \u001b[0m\u001b[97;49mC\u001b[0m\u001b[97;49m[\u001b[0m\u001b[97;49mi\u001b[0m\u001b[97;49m]\u001b[0m\u001b[97;49m[\u001b[0m\u001b[97;49mj\u001b[0m\u001b[97;49m]\u001b[0m\u001b[97;49m \u001b[0m\u001b[91;49m+\u001b[0m\u001b[91;49m=\u001b[0m\u001b[97;49m \u001b[0m\u001b[97;49mA\u001b[0m\u001b[97;49m[\u001b[0m\u001b[97;49mi\u001b[0m\u001b[97;49m]\u001b[0m\u001b[97;49m[\u001b[0m\u001b[97;49mk\u001b[0m\u001b[97;49m]\u001b[0m\u001b[91;49m*\u001b[0m\u001b[97;49mB\u001b[0m\u001b[97;49m[\u001b[0m\u001b[97;49mk\u001b[0m\u001b[97;49m]\u001b[0m\u001b[97;49m[\u001b[0m\u001b[97;49mj\u001b[0m\u001b[97;49m]\u001b[0m                 \n",
            "    \u001b[1;36m41\u001b[0m                                                                                              \n",
            "    \u001b[1;36m42\u001b[0m         \u001b[1;36m1\u001b[0m          \u001b[1;36m4.8\u001b[0m      \u001b[1;36m4.8\u001b[0m      \u001b[1;36m0.0\u001b[0m  \u001b[97;49m  \u001b[0m\u001b[97;49mend_time\u001b[0m\u001b[97;49m \u001b[0m\u001b[91;49m=\u001b[0m\u001b[97;49m \u001b[0m\u001b[97;49mtime\u001b[0m\u001b[91;49m.\u001b[0m\u001b[97;49mtime\u001b[0m\u001b[97;49m(\u001b[0m\u001b[97;49m)\u001b[0m                           \n",
            "    \u001b[1;36m43\u001b[0m         \u001b[1;36m1\u001b[0m          \u001b[1;36m1.1\u001b[0m      \u001b[1;36m1.1\u001b[0m      \u001b[1;36m0.0\u001b[0m  \u001b[97;49m  \u001b[0m\u001b[97;49melapsed_time\u001b[0m\u001b[97;49m \u001b[0m\u001b[91;49m=\u001b[0m\u001b[97;49m \u001b[0m\u001b[97;49mend_time\u001b[0m\u001b[97;49m \u001b[0m\u001b[91;49m-\u001b[0m\u001b[97;49m \u001b[0m\u001b[97;49mstart_time\u001b[0m             \n",
            "    \u001b[1;36m44\u001b[0m         \u001b[1;36m1\u001b[0m         \u001b[1;36m69.5\u001b[0m     \u001b[1;36m69.5\u001b[0m      \u001b[1;36m0.0\u001b[0m  \u001b[97;49m  \u001b[0m\u001b[97;49mprint\u001b[0m\u001b[97;49m(\u001b[0m\u001b[93;49m\"\u001b[0m\u001b[93;49mTime required to carry out the computatio…\u001b[0m\n",
            "\n",
            "\n",
            " 12.65 seconds - matrix_multiplication.py:24 - matrix_multiplication\n"
          ]
        }
      ]
    }
  ]
}